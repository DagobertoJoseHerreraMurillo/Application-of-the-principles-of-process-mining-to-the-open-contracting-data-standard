{
 "cells": [
  {
   "cell_type": "markdown",
   "metadata": {},
   "source": [
    "# Failure to adequately advertise the request for bids or proposals"
   ]
  },
  {
   "cell_type": "code",
   "execution_count": 1,
   "metadata": {
    "collapsed": true
   },
   "outputs": [],
   "source": [
    "# import libraries\n",
    "import json\n",
    "import pandas as pd\n",
    "import matplotlib.pyplot as plt\n",
    "import folium\n",
    "import gc\n",
    "from pandas import DataFrame"
   ]
  },
  {
   "cell_type": "code",
   "execution_count": 8,
   "metadata": {},
   "outputs": [
    {
     "name": "stderr",
     "output_type": "stream",
     "text": [
      "C:\\Users\\Dagoberto\\Anaconda3\\lib\\site-packages\\ipykernel_launcher.py:35: SettingWithCopyWarning: \n",
      "A value is trying to be set on a copy of a slice from a DataFrame.\n",
      "Try using .loc[row_indexer,col_indexer] = value instead\n",
      "\n",
      "See the caveats in the documentation: http://pandas.pydata.org/pandas-docs/stable/indexing.html#indexing-view-versus-copy\n",
      "C:\\Users\\Dagoberto\\Anaconda3\\lib\\site-packages\\ipykernel_launcher.py:36: SettingWithCopyWarning: \n",
      "A value is trying to be set on a copy of a slice from a DataFrame.\n",
      "Try using .loc[row_indexer,col_indexer] = value instead\n",
      "\n",
      "See the caveats in the documentation: http://pandas.pydata.org/pandas-docs/stable/indexing.html#indexing-view-versus-copy\n"
     ]
    },
    {
     "data": {
      "text/plain": [
       "24"
      ]
     },
     "execution_count": 8,
     "metadata": {},
     "output_type": "execute_result"
    }
   ],
   "source": [
    "#Read original CSV files to extract required data fields (procurement method, amount, buyer, region, cycle)\n",
    "l = [i for i in range(1,14)]\n",
    "for n in l:\n",
    "    s=\"c\"+str(n)+\".csv\"\n",
    "    data=pd.read_csv(s)\n",
    "    contratos=data[['releases']]\n",
    "    \n",
    "    a=[]#list of contract amounts\n",
    "    b=[]#list of buyers\n",
    "\n",
    "    \n",
    "    #Read json to extract data fields in contratos\n",
    "    for n in contratos.iterrows():\n",
    "        cifra=json.loads(n[1][\"releases\"])\n",
    "        r=len(cifra)-1\n",
    "        startDate=\"\"\n",
    "        endDate=\"\"\n",
    "        \n",
    "        #Get cycle\n",
    "        try:\n",
    "            startDate=cifra[r][\"tender\"][\"tenderPeriod\"][\"startDate\"] \n",
    "        except:\n",
    "            startDate=\"\"\n",
    "\n",
    "        #Get planningStatus\n",
    "        try:\n",
    "            endDate=cifra[r][\"tender\"][\"tenderPeriod\"][\"endDate\"]  \n",
    "        except:\n",
    "            endDate=\"\"\n",
    "            \n",
    "        a.append(startDate)\n",
    "        b.append(endDate)\n",
    "        \n",
    "    tenderers=data[[\"ocid\",\"compiledRelease.tender.procurementMethod\"]]\n",
    "    tenderers['startDate'] = a\n",
    "    tenderers['endDate'] = b\n",
    "\n",
    "    \n",
    "    #Appending result to a new CSV\n",
    "    #Remove , and rowsIDs later\n",
    "    tenderers.to_csv(\"tenderPeriod.csv\", header=False, mode = 'a',index=False)\n",
    "    \n",
    "# Destroy unused objects\n",
    "del a,b,startDate,endDate,cifra,contratos,data\n",
    "# Run garbage collection process \n",
    "gc.collect()"
   ]
  },
  {
   "cell_type": "code",
   "execution_count": 9,
   "metadata": {
    "collapsed": true
   },
   "outputs": [],
   "source": [
    "#Read new file\n",
    "data=pd.read_csv(\"tenderPeriod.csv\", encoding ='latin1', header=None,skiprows=[0])\n"
   ]
  },
  {
   "cell_type": "code",
   "execution_count": 10,
   "metadata": {},
   "outputs": [
    {
     "data": {
      "text/html": [
       "<div>\n",
       "<style>\n",
       "    .dataframe thead tr:only-child th {\n",
       "        text-align: right;\n",
       "    }\n",
       "\n",
       "    .dataframe thead th {\n",
       "        text-align: left;\n",
       "    }\n",
       "\n",
       "    .dataframe tbody tr th {\n",
       "        vertical-align: top;\n",
       "    }\n",
       "</style>\n",
       "<table border=\"1\" class=\"dataframe\">\n",
       "  <thead>\n",
       "    <tr style=\"text-align: right;\">\n",
       "      <th></th>\n",
       "      <th>0</th>\n",
       "      <th>1</th>\n",
       "      <th>2</th>\n",
       "      <th>3</th>\n",
       "    </tr>\n",
       "  </thead>\n",
       "  <tbody>\n",
       "    <tr>\n",
       "      <th>300259</th>\n",
       "      <td>ocds-07smqs-1424987</td>\n",
       "      <td>direct</td>\n",
       "      <td>2017-07-17T12:10:41Z</td>\n",
       "      <td>NaN</td>\n",
       "    </tr>\n",
       "    <tr>\n",
       "      <th>300260</th>\n",
       "      <td>ocds-07smqs-1425000</td>\n",
       "      <td>open</td>\n",
       "      <td>2017-07-20T08:06:03Z</td>\n",
       "      <td>2017-08-04T09:00:00Z</td>\n",
       "    </tr>\n",
       "    <tr>\n",
       "      <th>300261</th>\n",
       "      <td>ocds-07smqs-1425005</td>\n",
       "      <td>selective</td>\n",
       "      <td>2017-07-14T03:28:56Z</td>\n",
       "      <td>2017-07-21T12:00:00Z</td>\n",
       "    </tr>\n",
       "    <tr>\n",
       "      <th>300262</th>\n",
       "      <td>ocds-07smqs-1425009</td>\n",
       "      <td>open</td>\n",
       "      <td>2017-07-14T02:18:52Z</td>\n",
       "      <td>2017-08-01T10:00:00Z</td>\n",
       "    </tr>\n",
       "    <tr>\n",
       "      <th>300263</th>\n",
       "      <td>ocds-07smqs-1425026</td>\n",
       "      <td>open</td>\n",
       "      <td>2017-07-14T03:25:55Z</td>\n",
       "      <td>2017-08-23T09:00:00Z</td>\n",
       "    </tr>\n",
       "  </tbody>\n",
       "</table>\n",
       "</div>"
      ],
      "text/plain": [
       "                          0          1                     2  \\\n",
       "300259  ocds-07smqs-1424987     direct  2017-07-17T12:10:41Z   \n",
       "300260  ocds-07smqs-1425000       open  2017-07-20T08:06:03Z   \n",
       "300261  ocds-07smqs-1425005  selective  2017-07-14T03:28:56Z   \n",
       "300262  ocds-07smqs-1425009       open  2017-07-14T02:18:52Z   \n",
       "300263  ocds-07smqs-1425026       open  2017-07-14T03:25:55Z   \n",
       "\n",
       "                           3  \n",
       "300259                   NaN  \n",
       "300260  2017-08-04T09:00:00Z  \n",
       "300261  2017-07-21T12:00:00Z  \n",
       "300262  2017-08-01T10:00:00Z  \n",
       "300263  2017-08-23T09:00:00Z  "
      ]
     },
     "execution_count": 10,
     "metadata": {},
     "output_type": "execute_result"
    }
   ],
   "source": [
    "data.tail()"
   ]
  },
  {
   "cell_type": "code",
   "execution_count": 6,
   "metadata": {},
   "outputs": [
    {
     "ename": "NameError",
     "evalue": "name 'size' is not defined",
     "output_type": "error",
     "traceback": [
      "\u001b[1;31m---------------------------------------------------------------------------\u001b[0m",
      "\u001b[1;31mNameError\u001b[0m                                 Traceback (most recent call last)",
      "\u001b[1;32m<ipython-input-6-07de327a28c7>\u001b[0m in \u001b[0;36m<module>\u001b[1;34m()\u001b[0m\n\u001b[1;32m----> 1\u001b[1;33m \u001b[0msize\u001b[0m\u001b[1;33m(\u001b[0m\u001b[0mdata\u001b[0m\u001b[1;33m)\u001b[0m\u001b[1;33m\u001b[0m\u001b[0m\n\u001b[0m",
      "\u001b[1;31mNameError\u001b[0m: name 'size' is not defined"
     ]
    }
   ],
   "source": []
  },
  {
   "cell_type": "code",
   "execution_count": null,
   "metadata": {
    "collapsed": true
   },
   "outputs": [],
   "source": []
  }
 ],
 "metadata": {
  "kernelspec": {
   "display_name": "Python 3",
   "language": "python",
   "name": "python3"
  },
  "language_info": {
   "codemirror_mode": {
    "name": "ipython",
    "version": 3
   },
   "file_extension": ".py",
   "mimetype": "text/x-python",
   "name": "python",
   "nbconvert_exporter": "python",
   "pygments_lexer": "ipython3",
   "version": "3.6.1"
  }
 },
 "nbformat": 4,
 "nbformat_minor": 2
}
