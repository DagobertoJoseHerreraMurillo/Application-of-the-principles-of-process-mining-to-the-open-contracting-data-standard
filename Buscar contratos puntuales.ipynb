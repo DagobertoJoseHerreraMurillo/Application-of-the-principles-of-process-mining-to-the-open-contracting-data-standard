{
 "cells": [
  {
   "cell_type": "code",
   "execution_count": 1,
   "metadata": {
    "collapsed": true
   },
   "outputs": [],
   "source": [
    "# import libraries\n",
    "import json\n",
    "import pandas as pd\n",
    "import numpy as np"
   ]
  },
  {
   "cell_type": "code",
   "execution_count": 2,
   "metadata": {},
   "outputs": [
    {
     "name": "stdout",
     "output_type": "stream",
     "text": [
      "0\n"
     ]
    },
    {
     "ename": "KeyboardInterrupt",
     "evalue": "",
     "output_type": "error",
     "traceback": [
      "\u001b[1;31m---------------------------------------------------------------------------\u001b[0m",
      "\u001b[1;31mKeyboardInterrupt\u001b[0m                         Traceback (most recent call last)",
      "\u001b[1;32m<ipython-input-2-c63dd9793b4a>\u001b[0m in \u001b[0;36m<module>\u001b[1;34m()\u001b[0m\n\u001b[0;32m     11\u001b[0m     \u001b[1;31m#Read json to extract data fields in contratos\u001b[0m\u001b[1;33m\u001b[0m\u001b[1;33m\u001b[0m\u001b[0m\n\u001b[0;32m     12\u001b[0m     \u001b[1;32mfor\u001b[0m \u001b[0mn\u001b[0m \u001b[1;32min\u001b[0m \u001b[0mcontratos\u001b[0m\u001b[1;33m.\u001b[0m\u001b[0miterrows\u001b[0m\u001b[1;33m(\u001b[0m\u001b[1;33m)\u001b[0m\u001b[1;33m:\u001b[0m\u001b[1;33m\u001b[0m\u001b[0m\n\u001b[1;32m---> 13\u001b[1;33m         \u001b[0mcifra\u001b[0m\u001b[1;33m=\u001b[0m\u001b[0mjson\u001b[0m\u001b[1;33m.\u001b[0m\u001b[0mloads\u001b[0m\u001b[1;33m(\u001b[0m\u001b[0mn\u001b[0m\u001b[1;33m[\u001b[0m\u001b[1;36m1\u001b[0m\u001b[1;33m]\u001b[0m\u001b[1;33m[\u001b[0m\u001b[1;34m\"releases\"\u001b[0m\u001b[1;33m]\u001b[0m\u001b[1;33m)\u001b[0m\u001b[1;33m\u001b[0m\u001b[0m\n\u001b[0m\u001b[0;32m     14\u001b[0m         \u001b[0mr\u001b[0m\u001b[1;33m=\u001b[0m\u001b[0mlen\u001b[0m\u001b[1;33m(\u001b[0m\u001b[0mcifra\u001b[0m\u001b[1;33m)\u001b[0m\u001b[1;33m-\u001b[0m\u001b[1;36m1\u001b[0m\u001b[1;33m\u001b[0m\u001b[0m\n\u001b[0;32m     15\u001b[0m         \u001b[1;32mif\u001b[0m\u001b[1;33m(\u001b[0m\u001b[0mcifra\u001b[0m\u001b[1;33m[\u001b[0m\u001b[0mr\u001b[0m\u001b[1;33m]\u001b[0m\u001b[1;33m[\u001b[0m\u001b[1;34m\"ocid\"\u001b[0m\u001b[1;33m]\u001b[0m \u001b[1;33m==\u001b[0m\u001b[1;34m\"ocds-07smqs-1520579\"\u001b[0m\u001b[1;33m)\u001b[0m\u001b[1;33m:\u001b[0m\u001b[1;33m\u001b[0m\u001b[0m\n",
      "\u001b[1;32mC:\\Users\\Dagoberto\\Anaconda3\\lib\\json\\__init__.py\u001b[0m in \u001b[0;36mloads\u001b[1;34m(s, encoding, cls, object_hook, parse_float, parse_int, parse_constant, object_pairs_hook, **kw)\u001b[0m\n\u001b[0;32m    352\u001b[0m             \u001b[0mparse_int\u001b[0m \u001b[1;32mis\u001b[0m \u001b[1;32mNone\u001b[0m \u001b[1;32mand\u001b[0m \u001b[0mparse_float\u001b[0m \u001b[1;32mis\u001b[0m \u001b[1;32mNone\u001b[0m \u001b[1;32mand\u001b[0m\u001b[1;33m\u001b[0m\u001b[0m\n\u001b[0;32m    353\u001b[0m             parse_constant is None and object_pairs_hook is None and not kw):\n\u001b[1;32m--> 354\u001b[1;33m         \u001b[1;32mreturn\u001b[0m \u001b[0m_default_decoder\u001b[0m\u001b[1;33m.\u001b[0m\u001b[0mdecode\u001b[0m\u001b[1;33m(\u001b[0m\u001b[0ms\u001b[0m\u001b[1;33m)\u001b[0m\u001b[1;33m\u001b[0m\u001b[0m\n\u001b[0m\u001b[0;32m    355\u001b[0m     \u001b[1;32mif\u001b[0m \u001b[0mcls\u001b[0m \u001b[1;32mis\u001b[0m \u001b[1;32mNone\u001b[0m\u001b[1;33m:\u001b[0m\u001b[1;33m\u001b[0m\u001b[0m\n\u001b[0;32m    356\u001b[0m         \u001b[0mcls\u001b[0m \u001b[1;33m=\u001b[0m \u001b[0mJSONDecoder\u001b[0m\u001b[1;33m\u001b[0m\u001b[0m\n",
      "\u001b[1;32mC:\\Users\\Dagoberto\\Anaconda3\\lib\\json\\decoder.py\u001b[0m in \u001b[0;36mdecode\u001b[1;34m(self, s, _w)\u001b[0m\n\u001b[0;32m    337\u001b[0m \u001b[1;33m\u001b[0m\u001b[0m\n\u001b[0;32m    338\u001b[0m         \"\"\"\n\u001b[1;32m--> 339\u001b[1;33m         \u001b[0mobj\u001b[0m\u001b[1;33m,\u001b[0m \u001b[0mend\u001b[0m \u001b[1;33m=\u001b[0m \u001b[0mself\u001b[0m\u001b[1;33m.\u001b[0m\u001b[0mraw_decode\u001b[0m\u001b[1;33m(\u001b[0m\u001b[0ms\u001b[0m\u001b[1;33m,\u001b[0m \u001b[0midx\u001b[0m\u001b[1;33m=\u001b[0m\u001b[0m_w\u001b[0m\u001b[1;33m(\u001b[0m\u001b[0ms\u001b[0m\u001b[1;33m,\u001b[0m \u001b[1;36m0\u001b[0m\u001b[1;33m)\u001b[0m\u001b[1;33m.\u001b[0m\u001b[0mend\u001b[0m\u001b[1;33m(\u001b[0m\u001b[1;33m)\u001b[0m\u001b[1;33m)\u001b[0m\u001b[1;33m\u001b[0m\u001b[0m\n\u001b[0m\u001b[0;32m    340\u001b[0m         \u001b[0mend\u001b[0m \u001b[1;33m=\u001b[0m \u001b[0m_w\u001b[0m\u001b[1;33m(\u001b[0m\u001b[0ms\u001b[0m\u001b[1;33m,\u001b[0m \u001b[0mend\u001b[0m\u001b[1;33m)\u001b[0m\u001b[1;33m.\u001b[0m\u001b[0mend\u001b[0m\u001b[1;33m(\u001b[0m\u001b[1;33m)\u001b[0m\u001b[1;33m\u001b[0m\u001b[0m\n\u001b[0;32m    341\u001b[0m         \u001b[1;32mif\u001b[0m \u001b[0mend\u001b[0m \u001b[1;33m!=\u001b[0m \u001b[0mlen\u001b[0m\u001b[1;33m(\u001b[0m\u001b[0ms\u001b[0m\u001b[1;33m)\u001b[0m\u001b[1;33m:\u001b[0m\u001b[1;33m\u001b[0m\u001b[0m\n",
      "\u001b[1;32mC:\\Users\\Dagoberto\\Anaconda3\\lib\\json\\decoder.py\u001b[0m in \u001b[0;36mraw_decode\u001b[1;34m(self, s, idx)\u001b[0m\n\u001b[0;32m    353\u001b[0m         \"\"\"\n\u001b[0;32m    354\u001b[0m         \u001b[1;32mtry\u001b[0m\u001b[1;33m:\u001b[0m\u001b[1;33m\u001b[0m\u001b[0m\n\u001b[1;32m--> 355\u001b[1;33m             \u001b[0mobj\u001b[0m\u001b[1;33m,\u001b[0m \u001b[0mend\u001b[0m \u001b[1;33m=\u001b[0m \u001b[0mself\u001b[0m\u001b[1;33m.\u001b[0m\u001b[0mscan_once\u001b[0m\u001b[1;33m(\u001b[0m\u001b[0ms\u001b[0m\u001b[1;33m,\u001b[0m \u001b[0midx\u001b[0m\u001b[1;33m)\u001b[0m\u001b[1;33m\u001b[0m\u001b[0m\n\u001b[0m\u001b[0;32m    356\u001b[0m         \u001b[1;32mexcept\u001b[0m \u001b[0mStopIteration\u001b[0m \u001b[1;32mas\u001b[0m \u001b[0merr\u001b[0m\u001b[1;33m:\u001b[0m\u001b[1;33m\u001b[0m\u001b[0m\n\u001b[0;32m    357\u001b[0m             \u001b[1;32mraise\u001b[0m \u001b[0mJSONDecodeError\u001b[0m\u001b[1;33m(\u001b[0m\u001b[1;34m\"Expecting value\"\u001b[0m\u001b[1;33m,\u001b[0m \u001b[0ms\u001b[0m\u001b[1;33m,\u001b[0m \u001b[0merr\u001b[0m\u001b[1;33m.\u001b[0m\u001b[0mvalue\u001b[0m\u001b[1;33m)\u001b[0m \u001b[1;32mfrom\u001b[0m \u001b[1;32mNone\u001b[0m\u001b[1;33m\u001b[0m\u001b[0m\n",
      "\u001b[1;31mKeyboardInterrupt\u001b[0m: "
     ]
    }
   ],
   "source": [
    "#Read original CSV files to extract required data fields (procurement method, amount, buyer, region, cycle)\n",
    "l = [i for i in range(1,14)]\n",
    "contador=0\n",
    "for n in l:\n",
    "    if(contador%5000==0):\n",
    "        print(contador)\n",
    "    contador=contador+1\n",
    "    s=\"c\"+str(n)+\".csv\"\n",
    "    data=pd.read_csv(s)\n",
    "    contratos=data[['releases']]    \n",
    "    #Read json to extract data fields in contratos\n",
    "    for n in contratos.iterrows():\n",
    "        cifra=json.loads(n[1][\"releases\"])\n",
    "        r=len(cifra)-1   \n",
    "        if(cifra[r][\"ocid\"] ==\"ocds-07smqs-1520579\"):\n",
    "            print(cifra)"
   ]
  },
  {
   "cell_type": "code",
   "execution_count": 14,
   "metadata": {},
   "outputs": [
    {
     "name": "stdout",
     "output_type": "stream",
     "text": [
      "0\n",
      "[{'publisher': {'uid': '27511', 'name': 'SECRETARÍA DE LA FUNCIÓN PÚBLICA', 'uri': 'http://www.gob.mx/sfp'}, 'cycle': 2018, 'ocid': 'ocds-07smqs-1654909', 'id': 'SFP-1654909-2018-11-13', 'date': '2018-04-05T10:47:40Z', 'tag': ['tender', 'award'], 'initiationType': 'tender', 'parties': [{'name': 'Comisión Nacional para el Desarrollo de los Pueblos Indígenas', 'id': 'CDI-97', 'roles': ['buyer']}, {'name': 'CDI-Delegación Estatal Guerrero #047AYB997', 'id': 'CND481110H94-047AYB997', 'identifier': {'id': 'CND481110H94-047AYB997', 'legalName': 'CDI-Delegación Estatal Guerrero #047AYB997', 'scheme': 'MX-RFC', 'uri': 'https://portalsat.plataforma.sat.gob.mx/ConsultaRFC'}, 'address': {'streetAddress': 'Calle 4, Lote 16, Col. Burócratas', 'locality': 'Chilpancingo de los Bravo', 'region': 'Guerrero', 'postalCode': '39090', 'countryName': 'MX'}, 'contactPoint': {'name': 'Lenin Carbajal Cabrera', 'email': 'lcarbajal@cdi.gob.mx', 'telephone': '017474720420'}, 'roles': ['procuringEntity']}, {'name': 'CORPORACIÓN EFICAZ UNO, S.A. DE C.V.  ', 'id': 'CEU150403968', 'identifier': {'id': 'CEU150403968', 'legalName': 'CORPORACIÓN EFICAZ UNO, S.A. DE C.V.  ', 'scheme': 'MX-RFC', 'uri': 'https://portalsat.plataforma.sat.gob.mx/ConsultaRFC'}, 'address': {'locality': 'ACAPULCO DE JUÁREZ', 'region': 'MX-GRO', 'countryName': 'MÉXICO'}, 'contactPoint': {'email': 'xmartinez@cdi.gob.mx'}, 'roles': ['tenderer']}, {'name': 'COMPRAVENTA DE MATERIALES Y CONSTRUCCIÓN DE OBRAS MARTINEZ Y ASOCIADOS S.A. DE C.V.', 'id': 'CMC030408Q23', 'identifier': {'id': 'CMC030408Q23', 'legalName': 'COMPRAVENTA DE MATERIALES Y CONSTRUCCIÓN DE OBRAS MARTINEZ Y ASOCIADOS S.A. DE C.V.', 'scheme': 'MX-RFC', 'uri': 'https://portalsat.plataforma.sat.gob.mx/ConsultaRFC'}, 'address': {'locality': 'CHILPANCINGO', 'region': 'MX-GRO', 'countryName': 'MÉXICO'}, 'contactPoint': {'email': 'xmartinez@cdi.gob.mx'}, 'roles': ['tenderer']}, {'name': 'CONSTRUCCIONES Y PAVIMENTOS YOVANA, S.A. DE C.V.', 'id': 'CPY110413I37', 'identifier': {'id': 'CPY110413I37', 'legalName': 'CONSTRUCCIONES Y PAVIMENTOS YOVANA, S.A. DE C.V.', 'scheme': 'MX-RFC', 'uri': 'https://portalsat.plataforma.sat.gob.mx/ConsultaRFC'}, 'address': {'locality': 'CHILPANCINGO', 'region': 'MX-GRO', 'countryName': 'MÉXICO'}, 'contactPoint': {'email': 'xmartinez@cdi.gob.mx'}, 'roles': ['tenderer']}, {'name': 'CONSTRUCTORA SIGA, S.A. DE C.V.', 'id': 'CSI0612196D0', 'identifier': {'id': 'CSI0612196D0', 'legalName': 'CONSTRUCTORA SIGA, S.A. DE C.V.', 'scheme': 'MX-RFC', 'uri': 'https://portalsat.plataforma.sat.gob.mx/ConsultaRFC'}, 'address': {'locality': 'ACAPULCO DE JUÁREZ', 'region': 'MX-GRO', 'countryName': 'MÉXICO'}, 'contactPoint': {'email': 'xmartinez@cdi.gob.mx'}, 'roles': ['tenderer']}, {'name': 'TORNOCONSTRUCCIONES Y PAVIMENTACION MICAJAFU SA DE CV', 'id': 'TPM0711202C7', 'identifier': {'id': 'TPM0711202C7', 'legalName': 'TORNOCONSTRUCCIONES Y PAVIMENTACION MICAJAFU SA DE CV', 'scheme': 'MX-RFC', 'uri': 'https://portalsat.plataforma.sat.gob.mx/ConsultaRFC'}, 'address': {'streetAddress': 'CALLE CERRO DEL MERCADO #178. COL. LOMA HERMOSA', 'locality': 'Acapulco de Juárez', 'region': 'MX-GRO', 'postalCode': '39660', 'countryName': 'MÉXICO'}, 'contactPoint': {'name': 'CARLOS FUENTES JAVIER', 'email': 'micajafu@hotmail.com;minenadecrystal@hotmail.com', 'telephone': '744 506 89 42;744 177 84 67'}, 'roles': ['tenderer', 'supplier']}], 'buyer': {'name': 'Comisión Nacional para el Desarrollo de los Pueblos Indígenas', 'id': 'CDI-97'}, 'tender': {'id': '1654909', 'title': 'Sistema de drenaje sanitario y saneamiento en Zilacayota, Acatepec', 'description': 'Construcción del sistema de drenaje sanitario y saneamiento (1er. Etapa), para beneficiar a la localidad de Zilacayota, municipio de Acatepec', 'status': 'complete', 'procuringEntity': {'name': 'CDI-Delegación Estatal Guerrero #047AYB997', 'id': 'CND481110H94-047AYB997'}, 'items': [{'id': '8171744', 'description': 'SERVICIO DE VALES DE DESPENSA CON COBERTURA NACIONAL \\r\\nPOR TARJETAS \\r\\n', 'classification': {'id': '33602004', 'description': 'Vales canjeables por despensa (prestaciones)'}, 'quantity': 1, 'unit': {'name': 'Servicio'}}], 'value': {'amount': 0, 'currency': 'MXN'}, 'procurementMethod': 'open', 'awardCriteria': 'ratedCriteria', 'submissionMethod': ['inPerson'], 'tenderPeriod': {'startDate': '2018-04-05T10:47:40Z', 'endDate': '2018-04-18T11:00:00Z'}, 'enquiryPeriod': {'startDate': '2018-04-05T10:47:40Z', 'endDate': '2018-04-11T11:00:00Z'}, 'hasEnquiries': False, 'awardPeriod': {'startDate': '2018-04-18T11:00:00Z', 'endDate': '2018-04-24T00:00:00Z'}, 'numberOfTenderers': 5, 'tenderers': [{'name': 'CORPORACIÓN EFICAZ UNO, S.A. DE C.V.  ', 'id': 'CEU150403968'}, {'name': 'COMPRAVENTA DE MATERIALES Y CONSTRUCCIÓN DE OBRAS MARTINEZ Y ASOCIADOS S.A. DE C.V.', 'id': 'CMC030408Q23'}, {'name': 'CONSTRUCCIONES Y PAVIMENTOS YOVANA, S.A. DE C.V.', 'id': 'CPY110413I37'}, {'name': 'CONSTRUCTORA SIGA, S.A. DE C.V.', 'id': 'CSI0612196D0'}, {'name': 'TORNOCONSTRUCCIONES Y PAVIMENTACIÓN MICAJAFU, S.A. DE C.V. ', 'id': 'TPM0711202C7'}], 'documents': [{'id': '25055664', 'documentType': 'clarifications', 'title': 'ACTA DE ACLARACIONES DE SERVICIOS DE LIMPIEZA.pdf', 'description': 'Acta junta de aclaraciones', 'datePublished': '2016-01-18T12:01:40Z', 'language': 'es'}, {'id': '25022534', 'documentType': 'tenderNotice', 'title': 'Procedimiento de Invitacions a Cuando mesno 3 personas LIMPIEZA 2016.docx', 'description': 'Convocatoria / Invitación', 'datePublished': '2016-01-14T10:11:25Z', 'language': 'es'}]}, 'language': 'es', 'awards': [{'id': '1893679', 'title': 'Sistema de drenaje sanitario y saneamiento en Zilacayota, Acatepec', 'description': 'Construcción del sistema de drenaje sanitario y saneamiento (1er. Etapa), para beneficiar a la localidad de Zilacayota, municipio de Acatepec', 'status': 'active', 'value': {'amount': 4913318.98, 'currency': 'MXN'}, 'suppliers': [{'name': 'TORNOCONSTRUCCIONES Y PAVIMENTACION MICAJAFU SA DE CV', 'id': 'TPM0711202C7'}], 'items': [{'id': '5521488', 'description': 'Sistema de drenaje', 'classification': {'scheme': 'CUCOP: Clasificador Único de las Contrataciones Públicas', 'id': '61600107', 'description': 'Otra construccion de ingenieria civil', 'uri': 'https://compranetinfo.funcionpublica.gob.mx/descargas/CUCOP.xlsx'}, 'quantity': 1, 'unit': {'name': 'Sistema', 'value': {'amount': 4913318.98, 'currency': 'MXN'}}}], 'contractPeriod': {'startDate': '2018-04-30T12:00:00Z', 'endDate': '2018-10-01T11:59:00Z'}, 'documents': [{'id': '25165788', 'documentType': 'awardNotice', 'title': 'FALLO DE  CONTRATACIÓN DE SERVICIOS DE LIMPIEZA.pdf', 'description': 'Acta de fallo', 'datePublished': '2016-01-27T09:38:02Z', 'language': 'es'}]}], 'contracts': [{'id': 1893679, 'awardID': '1893679', 'title': 'Sistema de drenaje sanitario y saneamiento en Zilacayota, Acatepec', 'description': 'Construcción del sistema de drenaje sanitario y saneamiento (1er. Etapa), para beneficiar a la localidad de Zilacayota, municipio de Acatepec', 'status': 'terminated', 'period': {'startDate': '2018-04-30T12:00:00Z', 'endDate': '2018-10-01T11:59:00Z'}, 'value': {'amount': 4913318.98, 'currency': 'MXN'}, 'items': [{'id': '5521488', 'description': 'Sistema de drenaje', 'classification': {'id': '61600107', 'description': 'Otra construccion de ingenieria civil'}, 'quantity': 1, 'unit': {'name': 'Sistema', 'value': {'amount': 4913318.98, 'currency': 'MXN'}}}]}]}]\n"
     ]
    }
   ],
   "source": [
    "#Read original CSV files to extract required data fields (procurement method, amount, buyer, region, cycle)\n",
    "l = [i for i in range(1,14)]\n",
    "contador=0\n",
    "for n in l:\n",
    "    if(contador%5000==0):\n",
    "        print(contador)\n",
    "    contador=contador+1\n",
    "    s=\"c\"+str(n)+\".csv\"\n",
    "    data=pd.read_csv(s)\n",
    "    contratos=data[['releases']]    \n",
    "    #Read json to extract data fields in contratos\n",
    "    for n in contratos.iterrows():\n",
    "        cifra=json.loads(n[1][\"releases\"])\n",
    "        r=len(cifra)-1   \n",
    "        if(cifra[r][\"ocid\"] ==\"ocds-07smqs-1654909\"):\n",
    "            print(cifra)"
   ]
  },
  {
   "cell_type": "code",
   "execution_count": 13,
   "metadata": {},
   "outputs": [
    {
     "name": "stdout",
     "output_type": "stream",
     "text": [
      "0\n",
      "[{'publisher': {'uid': '27511', 'name': 'SECRETARÍA DE LA FUNCIÓN PÚBLICA', 'uri': 'http://www.gob.mx/sfp'}, 'cycle': 2017, 'ocid': 'ocds-07smqs-1270720', 'id': 'SFP-1270720-2018-11-13', 'date': '2017-02-07T05:28:44Z', 'tag': ['tender', 'award'], 'initiationType': 'tender', 'parties': [{'name': 'Comisión Nacional del Agua', 'id': 'CONAGUA-94', 'roles': ['buyer']}, {'name': 'CONAGUA-Subdirección General de Infraestructura Hidroagrícola #016B00030', 'id': 'CNA890116SF2-016B00030', 'identifier': {'id': 'CNA890116SF2-016B00030', 'legalName': 'CONAGUA-Subdirección General de Infraestructura Hidroagrícola #016B00030', 'scheme': 'MX-RFC', 'uri': 'https://portalsat.plataforma.sat.gob.mx/ConsultaRFC'}, 'address': {'streetAddress': 'Insurgentes No.2416, Colonia Copilco el Bajo \\r\\nPiso 6 , Ala Poniente', 'locality': 'Coyoacán', 'region': 'Ciudad de México', 'postalCode': '04340', 'countryName': 'MX'}, 'contactPoint': {'name': 'Jorge Luis Camacho Gaxiola', 'email': 'jorge.camacho@conagua.gob.mx', 'telephone': '51744000 EXT 1165'}, 'roles': ['procuringEntity']}, {'name': 'PUENTES Y CONSTRUCCIONES MESI, S.A. DE C.V.', 'id': 'PCM100618BF8', 'identifier': {'id': 'PCM100618BF8', 'legalName': 'PUENTES Y CONSTRUCCIONES MESI, S.A. DE C.V.', 'scheme': 'MX-RFC', 'uri': 'https://portalsat.plataforma.sat.gob.mx/ConsultaRFC'}, 'address': {'locality': 'CHILPANSINGO', 'region': 'MX-GRO', 'countryName': 'MÉXICO'}, 'contactPoint': {'email': 'pedro.quezada@conagua.gob.mx'}, 'roles': ['tenderer']}, {'name': 'INGENIA S EN C SA DE CV', 'id': 'ING120518NL7', 'identifier': {'id': 'ING120518NL7', 'legalName': 'INGENIA S EN C SA DE CV', 'scheme': 'MX-RFC', 'uri': 'https://portalsat.plataforma.sat.gob.mx/ConsultaRFC'}, 'address': {'locality': 'Chilpancingo', 'region': 'MX-GRO', 'countryName': 'MÉXICO'}, 'contactPoint': {'email': 'javier.castroa@conagua.gob.mx'}, 'roles': ['tenderer']}, {'name': 'ARMHI CONSTRUCCIONES, S.A. DE C.V.', 'id': 'ACO020708GS9', 'identifier': {'id': 'ACO020708GS9', 'legalName': 'ARMHI CONSTRUCCIONES, S.A. DE C.V.', 'scheme': 'MX-RFC', 'uri': 'https://portalsat.plataforma.sat.gob.mx/ConsultaRFC'}, 'address': {'locality': 'CHILPANSINGO', 'region': 'MX-GRO', 'countryName': 'MÉXICO'}, 'contactPoint': {'email': 'pedro.quezada@conagua.gob.mx'}, 'roles': ['tenderer']}, {'name': 'DESARROLLADORES GILMAN DEL GRIJALVA, S.A. DE C.V.', 'id': 'DGG101126LY4', 'identifier': {'id': 'DGG101126LY4', 'legalName': 'DESARROLLADORES GILMAN DEL GRIJALVA, S.A. DE C.V.', 'scheme': 'MX-RFC', 'uri': 'https://portalsat.plataforma.sat.gob.mx/ConsultaRFC'}, 'address': {'locality': 'ACAPULCO', 'region': 'MX-GRO', 'countryName': 'MÉXICO'}, 'contactPoint': {'email': 'pedro.quezada@conagua.gob.mx'}, 'roles': ['tenderer']}, {'name': 'CONSTRUCTORA ROLOSOL, S.A. DE C.V.', 'id': 'CRO1503309I3', 'identifier': {'id': 'CRO1503309I3', 'legalName': 'CONSTRUCTORA ROLOSOL, S.A. DE C.V.', 'scheme': 'MX-RFC', 'uri': 'https://portalsat.plataforma.sat.gob.mx/ConsultaRFC'}, 'address': {'locality': 'CHILPANSINGO', 'region': 'MX-GRO', 'countryName': 'MÉXICO'}, 'contactPoint': {'email': 'pedro.quezada@conagua.gob.mx'}, 'roles': ['tenderer']}, {'name': 'CASA BAHENA, S.A DE C.V.', 'id': 'CBA881209ES7', 'identifier': {'id': 'CBA881209ES7', 'legalName': 'CASA BAHENA, S.A DE C.V.', 'scheme': 'MX-RFC', 'uri': 'https://portalsat.plataforma.sat.gob.mx/ConsultaRFC'}, 'address': {'locality': 'COYOACÁN', 'region': 'MX-CMX', 'countryName': 'MÉXICO'}, 'contactPoint': {'email': 'pedro.quezada@conagua.gob.mx'}, 'roles': ['tenderer']}, {'name': 'INGENIERIA OAXACA SA DE CV', 'id': 'IOA960521DX1', 'identifier': {'id': 'IOA960521DX1', 'legalName': 'INGENIERIA OAXACA SA DE CV', 'scheme': 'MX-RFC', 'uri': 'https://portalsat.plataforma.sat.gob.mx/ConsultaRFC'}, 'address': {'streetAddress': 'CALLE PROLONGACION 1 DE MAYO SIN NUMERO LOS HEROES ECATEPEC SECCION II', 'locality': 'ECATEPEC DE MORELOS', 'region': 'MX-MEX', 'postalCode': '55023', 'countryName': 'MÉXICO'}, 'contactPoint': {'email': 'iosadecv@hotmail.com;jag7011@hotmail.com', 'telephone': '52 55 58371887'}, 'roles': ['tenderer']}, {'name': 'PAPAGAYO CONSTRUCCIONES Y MAQUINARIA, S.A. DE C.V.', 'id': 'PCM0006289R3', 'identifier': {'id': 'PCM0006289R3', 'legalName': 'PAPAGAYO CONSTRUCCIONES Y MAQUINARIA, S.A. DE C.V.', 'scheme': 'MX-RFC', 'uri': 'https://portalsat.plataforma.sat.gob.mx/ConsultaRFC'}, 'address': {'locality': 'ACAPULCO', 'region': 'MX-GRO', 'countryName': 'MÉXICO'}, 'contactPoint': {'email': 'pedro.quezada@conagua.gob.mx'}, 'roles': ['tenderer']}, {'name': 'MACC CONSTRUYE S.A DE C.V', 'id': 'MCO101217FR9', 'identifier': {'id': 'MCO101217FR9', 'legalName': 'MACC CONSTRUYE S.A DE C.V', 'scheme': 'MX-RFC', 'uri': 'https://portalsat.plataforma.sat.gob.mx/ConsultaRFC'}, 'address': {'locality': 'Chilpancingo', 'region': 'MX-GRO', 'countryName': 'MÉXICO'}, 'contactPoint': {'email': 'javier.castroa@conagua.gob.mx'}, 'roles': ['tenderer']}, {'name': 'ASOCIACIÓN EN PARTICIPACIÓN GRUPO TAURO INGENIERÍA Y TRANSPORTES, S.A. DE C.V. Y GRUPO ARGENT, S.A. DE C.V.', 'id': 'GTI960223422', 'identifier': {'id': 'GTI960223422', 'legalName': 'ASOCIACIÓN EN PARTICIPACIÓN GRUPO TAURO INGENIERÍA Y TRANSPORTES, S.A. DE C.V. Y GRUPO ARGENT, S.A. DE C.V.', 'scheme': 'MX-RFC', 'uri': 'https://portalsat.plataforma.sat.gob.mx/ConsultaRFC'}, 'address': {'locality': 'ACAPULCO', 'region': 'MX-GRO', 'countryName': 'MÉXICO'}, 'contactPoint': {'email': 'pedro.quezada@conagua.gob.mx'}, 'roles': ['tenderer']}, {'name': 'CONSTRUCTORA Y COMERCIALIZADORA TROICHIPT, S.A. DE C.V.', 'id': 'CCT110404CZA', 'identifier': {'id': 'CCT110404CZA', 'legalName': 'CONSTRUCTORA Y COMERCIALIZADORA TROICHIPT, S.A. DE C.V.', 'scheme': 'MX-RFC', 'uri': 'https://portalsat.plataforma.sat.gob.mx/ConsultaRFC'}, 'address': {'locality': 'CANCÚN', 'region': 'MX-ROO', 'countryName': 'MÉXICO'}, 'contactPoint': {'email': 'pedro.quezada@conagua.gob.mx'}, 'roles': ['tenderer']}, {'name': 'CAMPOSECO CONSTRUCCIÓNES, S.A. DE C.V.', 'id': 'CCO071213BQ2', 'identifier': {'id': 'CCO071213BQ2', 'legalName': 'CAMPOSECO CONSTRUCCIÓNES, S.A. DE C.V.', 'scheme': 'MX-RFC', 'uri': 'https://portalsat.plataforma.sat.gob.mx/ConsultaRFC'}, 'address': {'locality': 'NAUCALPAN', 'region': 'MX-MEX', 'countryName': 'MÉXICO'}, 'contactPoint': {'email': 'pedro.quezada@conagua.gob.mx'}, 'roles': ['tenderer']}, {'name': 'CONSTRUCCIONES Y PAVIMENTOS YOVANA,', 'id': 'CPY110413I37', 'identifier': {'id': 'CPY110413I37', 'legalName': 'CONSTRUCCIONES Y PAVIMENTOS YOVANA,', 'scheme': 'MX-RFC', 'uri': 'https://portalsat.plataforma.sat.gob.mx/ConsultaRFC'}, 'address': {'locality': 'CHILPANSINGO', 'region': 'MX-GRO', 'countryName': 'MÉXICO'}, 'contactPoint': {'name': \"- (Cuenta administrada por 'CONAGUA-Subdirección General de Infraestructura Hidroagrícola #016B00030')\", 'email': 'pedro.quezada@conagua.gob.mx'}, 'roles': ['tenderer', 'supplier']}], 'buyer': {'name': 'Comisión Nacional del Agua', 'id': 'CONAGUA-94'}, 'tender': {'id': '1270720', 'title': '“CONSTRUCCIÓN DE BORDO Y PROTECCIÓN A BASE DE COLCHÓN GAVIÓN TRIPLE TORSIÓN, EN ', 'description': '“CONSTRUCCIÓN DE BORDO Y PROTECCIÓN A BASE DE COLCHÓN GAVIÓN TRIPLE TORSIÓN, EN M. I. DEL RÍO TLAPANECO, EN UNA LONGITUD DE 0.70 KM., EN LA LOCALIDAD DE CONHUAXO, MPIO. DE HUAMUXTITLÁN, GUERRERO”.', 'status': 'complete', 'procuringEntity': {'name': 'CONAGUA-Subdirección General de Infraestructura Hidroagrícola #016B00030', 'id': 'CNA890116SF2-016B00030'}, 'items': [{'id': '9949275', 'description': ' RECONSTRUCCIÓN DE LOS BORDOS NATURALES Y PROTECCIÓN MARGINAL DEL ARROYO CAUCE SIN NOMBRE, UBICADOS EN AMBAS MÁRGENES Y EN TRAMOS DISPERSOS, CON UNA LONGITUD APROXIMADA DE 150 METROS, LOCALIZADOS DESDE EL FRACCIONAMIENTO LAS ÁGUILAS HASTA AMPLIACIÓN JARDIN', 'classification': {'id': '62602007', 'description': 'Conservacion y/o mantenimiento de otra obra de ingenieria civil'}, 'quantity': 1, 'unit': {'name': 'Obra'}}], 'value': {'amount': 0, 'currency': 'MXN'}, 'procurementMethod': 'open', 'awardCriteria': 'priceOnly', 'submissionMethod': ['written'], 'tenderPeriod': {'startDate': '2017-02-07T05:28:44Z', 'endDate': '2017-02-24T10:00:00Z'}, 'enquiryPeriod': {'startDate': '2017-02-07T05:28:44Z', 'endDate': '2017-02-13T10:00:00Z'}, 'hasEnquiries': False, 'awardPeriod': {'startDate': '2017-02-24T10:00:00Z', 'endDate': '2017-03-03T00:00:00Z'}, 'numberOfTenderers': 13, 'tenderers': [{'name': 'PUENTES Y CONSTRUCCIONES MESI, S.A. DE C.V.', 'id': 'PCM100618BF8'}, {'name': 'INGENIA S EN C SA DE CV', 'id': 'ING120518NL7'}, {'name': 'ARMHI CONSTRUCCIONES, S.A. DE C.V.', 'id': 'ACO020708GS9'}, {'name': 'DESARROLLADORES GILMAN DEL GRIJALVA, S.A. DE C.V.', 'id': 'DGG101126LY4'}, {'name': 'CONSTRUCCIONES Y PAVIMENTOS YOVANA,', 'id': 'CPY110413I37'}, {'name': 'CONSTRUCTORA ROLOSOL, S.A. DE C.V.', 'id': 'CRO1503309I3'}, {'name': 'CASA BAHENA, S.A DE C.V.', 'id': 'CBA881209ES7'}, {'name': 'INGENIERIA OAXACA SA DE CV', 'id': 'IOA960521DX1'}, {'name': 'PAPAGAYO CONSTRUCCIONES Y MAQUINARIA, S.A. DE C.V.', 'id': 'PCM0006289R3'}, {'name': 'MACC CONSTRUYE S.A DE C.V', 'id': 'MCO101217FR9'}, {'name': 'ASOCIACIÓN EN PARTICIPACIÓN GRUPO TAURO INGENIERÍA Y TRANSPORTES, S.A. DE C.V. Y GRUPO ARGENT, S.A. DE C.V.', 'id': 'GTI960223422'}, {'name': 'CONSTRUCTORA Y COMERCIALIZADORA TROICHIPT, S.A. DE C.V.', 'id': 'CCT110404CZA'}, {'name': 'CAMPOSECO CONSTRUCCIÓNES, S.A. DE C.V.', 'id': 'CCO071213BQ2'}], 'documents': [{'id': '35966581', 'documentType': 'tenderNotice', 'title': 'OFICIO INV LIC E51 CONT 0081 2018.rar', 'description': 'Convocatoria / Invitación', 'datePublished': '2018-04-04T12:33:28Z', 'language': 'es'}, {'id': '36059459', 'documentType': 'clarifications', 'title': 'ACTA DE JUNTA DE ACLARACIONES LIC E51 2018.pdf', 'description': 'Acta junta de aclaraciones', 'datePublished': '2018-04-11T17:56:18Z', 'language': 'es'}]}, 'language': 'es', 'awards': [{'id': '1388009', 'title': 'LO-016B00030-E6-2017', 'description': '“CONSTRUCCIÓN DE BORDO Y PROTECCIÓN A BASE DE COLCHÓN GAVIÓN TRIPLE TORSIÓN, EN M. I. DEL RÍO TLAPANECO, EN UNA LONGITUD DE 0.70 KM., EN LA LOCALIDAD DE CONHUAXO, MPIO. DE HUAMUXTITLÁN, GUERRERO”.', 'status': 'active', 'value': {'amount': 13777954.92, 'currency': 'MXN'}, 'suppliers': [{'name': 'CONSTRUCCIONES Y PAVIMENTOS YOVANA,', 'id': 'CPY110413I37'}], 'items': [{'id': '4627437', 'description': '“CONSTRUCCIÓN DE BORDO Y PROTECCIÓN A BASE DE COLCHÓN GAVIÓN TRIPLE TORSIÓN, EN M. I. DEL RÍO TLAPANECO, EN UNA LONGITUD DE 0.70 KM., EN LA LOCALIDAD DE CONHUAXO, MPIO. DE HUAMUXTITLÁN, GUERRERO”.', 'classification': {'scheme': 'CUCOP: Clasificador Único de las Contrataciones Públicas', 'id': '62601007', 'description': 'Otra construccion de ingenieria civil', 'uri': 'https://compranetinfo.funcionpublica.gob.mx/descargas/CUCOP.xlsx'}, 'quantity': 1, 'unit': {'name': 'Obra', 'value': {'amount': 13777954.92, 'currency': 'MXN'}}}], 'contractPeriod': {'startDate': '2017-04-10T05:44:00Z', 'endDate': '2017-08-07T11:59:00Z'}, 'documents': [{'id': '36374206', 'documentType': 'awardNotice', 'title': 'ACTA DE FALLO LIC E51 CONT 0081 2018.pdf', 'description': 'Acta de fallo', 'datePublished': '2018-05-04T17:07:37Z', 'language': 'es'}]}], 'contracts': [{'id': 1388009, 'awardID': '1388009', 'title': 'LO-016B00030-E6-2017', 'description': '“CONSTRUCCIÓN DE BORDO Y PROTECCIÓN A BASE DE COLCHÓN GAVIÓN TRIPLE TORSIÓN, EN M. I. DEL RÍO TLAPANECO, EN UNA LONGITUD DE 0.70 KM., EN LA LOCALIDAD DE CONHUAXO, MPIO. DE HUAMUXTITLÁN, GUERRERO”.', 'status': 'terminated', 'period': {'startDate': '2017-04-10T05:44:00Z', 'endDate': '2017-08-07T11:59:00Z'}, 'value': {'amount': 13777954.92, 'currency': 'MXN'}, 'items': [{'id': '4627437', 'description': '“CONSTRUCCIÓN DE BORDO Y PROTECCIÓN A BASE DE COLCHÓN GAVIÓN TRIPLE TORSIÓN, EN M. I. DEL RÍO TLAPANECO, EN UNA LONGITUD DE 0.70 KM., EN LA LOCALIDAD DE CONHUAXO, MPIO. DE HUAMUXTITLÁN, GUERRERO”.', 'classification': {'id': '62601007', 'description': 'Otra construccion de ingenieria civil'}, 'quantity': 1, 'unit': {'name': 'Obra', 'value': {'amount': 13777954.92, 'currency': 'MXN'}}}], 'dateSigned': '2017-04-07T00:00:00Z'}]}]\n"
     ]
    }
   ],
   "source": [
    "#Read original CSV files to extract required data fields (procurement method, amount, buyer, region, cycle)\n",
    "l = [i for i in range(1,14)]\n",
    "contador=0\n",
    "for n in l:\n",
    "    if(contador%5000==0):\n",
    "        print(contador)\n",
    "    contador=contador+1\n",
    "    s=\"c\"+str(n)+\".csv\"\n",
    "    data=pd.read_csv(s)\n",
    "    contratos=data[['releases']]    \n",
    "    #Read json to extract data fields in contratos\n",
    "    for n in contratos.iterrows():\n",
    "        cifra=json.loads(n[1][\"releases\"])\n",
    "        r=len(cifra)-1   \n",
    "        if(cifra[r][\"ocid\"] ==\"ocds-07smqs-1270720\"):\n",
    "            print(cifra)"
   ]
  },
  {
   "cell_type": "code",
   "execution_count": null,
   "metadata": {
    "collapsed": true
   },
   "outputs": [],
   "source": []
  }
 ],
 "metadata": {
  "kernelspec": {
   "display_name": "Python 3",
   "language": "python",
   "name": "python3"
  },
  "language_info": {
   "codemirror_mode": {
    "name": "ipython",
    "version": 3
   },
   "file_extension": ".py",
   "mimetype": "text/x-python",
   "name": "python",
   "nbconvert_exporter": "python",
   "pygments_lexer": "ipython3",
   "version": "3.6.1"
  }
 },
 "nbformat": 4,
 "nbformat_minor": 2
}
