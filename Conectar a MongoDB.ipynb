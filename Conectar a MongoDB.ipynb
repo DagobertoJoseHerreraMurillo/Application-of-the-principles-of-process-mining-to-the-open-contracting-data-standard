{
 "cells": [
  {
   "cell_type": "markdown",
   "metadata": {},
   "source": [
    "https://api.mongodb.com/python/current/tutorial.html"
   ]
  },
  {
   "cell_type": "code",
   "execution_count": 1,
   "metadata": {
    "collapsed": true
   },
   "outputs": [],
   "source": [
    "import pymongo"
   ]
  },
  {
   "cell_type": "code",
   "execution_count": 3,
   "metadata": {
    "collapsed": true
   },
   "outputs": [],
   "source": [
    "from pymongo import MongoClient\n",
    "client = MongoClient()"
   ]
  },
  {
   "cell_type": "code",
   "execution_count": 4,
   "metadata": {
    "collapsed": true
   },
   "outputs": [],
   "source": [
    "client = MongoClient('localhost', 27017)"
   ]
  },
  {
   "cell_type": "code",
   "execution_count": 5,
   "metadata": {
    "collapsed": true
   },
   "outputs": [],
   "source": [
    "db = client.CMX"
   ]
  },
  {
   "cell_type": "code",
   "execution_count": 6,
   "metadata": {
    "collapsed": true
   },
   "outputs": [],
   "source": [
    "collection = db.CMX"
   ]
  },
  {
   "cell_type": "code",
   "execution_count": 7,
   "metadata": {},
   "outputs": [
    {
     "data": {
      "text/plain": [
       "{'_id': ObjectId('5bfdab0f940a526b33791711'),\n",
       " 'extensions': ['https://raw.githubusercontent.com/open-contracting/ocds_location_extension/v1.1.1/extension.json',\n",
       "  'https://raw.githubusercontent.com/open-contracting/ocds_additionalContactPoints_extension/master/extension.json',\n",
       "  'https://raw.githubusercontent.com/open-contracting/ocds_budget_breakdown_extension/master/extension.json',\n",
       "  'https://raw.githubusercontent.com/open-contracting/ocds_contract_suppliers_extension/master/extension.json',\n",
       "  'https://raw.githubusercontent.com/transpresupuestaria/ocds_contract_data_extension/master/extension.json',\n",
       "  'https://raw.githubusercontent.com/transpresupuestaria/ocds_budget_classifications_extension/master/extension.json',\n",
       "  'https://raw.githubusercontent.com/open-contracting/ocds_multiple_buyers_extension/master/release-schema.json',\n",
       "  'https://raw.githubusercontent.com/transpresupuestaria/ocds_related_projects_extension/master/extension.json',\n",
       "  'https://raw.githubusercontent.com/open-contracting/ocds_additionalContactPoints_extension/master/release-schema.json'],\n",
       " 'license': 'https://datos.gob.mx/libreusomx',\n",
       " 'publicationPolicy': 'https://compranetinfo.funcionpublica.gob.mx/descargas/politica-publicacion-EDCA-MX.pdf',\n",
       " 'publishedDate': '2018-11-27T20:37:34.831352Z',\n",
       " 'publisher': {'name': 'SECRETARÍA DE LA FUNCIÓN PÚBLICA / SECRETARIA DE HACIENDA Y CRÉDITO PÚBLICO',\n",
       "  'uri': 'http://www.gob.mx/contratacionesabiertas/'},\n",
       " 'records': [{'compiledRelease': {'buyer': {'id': 'ISSSTE-181',\n",
       "     'name': 'Instituto de Seguridad y Servicios Sociales de los Trabajadores del Estado'},\n",
       "    'cycle': 2017,\n",
       "    'date': '2017-07-17T09:47:30Z',\n",
       "    'id': 'SFP-1419674-2018-11-13',\n",
       "    'initiationType': 'tender',\n",
       "    'language': 'es',\n",
       "    'ocid': 'ocds-07smqs-1419674',\n",
       "    'parties': [{'id': 'ISSSTE-181',\n",
       "      'name': 'Instituto de Seguridad y Servicios Sociales de los Trabajadores del Estado',\n",
       "      'roles': ['buyer']},\n",
       "     {'address': {'countryName': 'MX',\n",
       "       'locality': 'Saltillo',\n",
       "       'postalCode': '25284',\n",
       "       'region': 'Coahuila',\n",
       "       'streetAddress': 'Gral. Andrés Saucedo No. 1368, Col. Deportiva'},\n",
       "      'contactPoint': {'email': 'alvaro.obregon@issste.gob.mx',\n",
       "       'name': 'Alvaro Jaime Obregon Flores',\n",
       "       'telephone': '01 844 4159262'},\n",
       "      'id': 'ISS6001015A3-051GYN008',\n",
       "      'identifier': {'id': 'ISS6001015A3-051GYN008',\n",
       "       'legalName': 'ISSSTE-DEPARTAMENTO DE ADQUISICIONES EN COAHUILA #051GYN008',\n",
       "       'scheme': 'MX-RFC',\n",
       "       'uri': 'https://portalsat.plataforma.sat.gob.mx/ConsultaRFC'},\n",
       "      'name': 'ISSSTE-DEPARTAMENTO DE ADQUISICIONES EN COAHUILA #051GYN008',\n",
       "      'roles': ['procuringEntity']},\n",
       "     {'address': {'countryName': 'MÉXICO',\n",
       "       'locality': 'AZCAPOTZALCO',\n",
       "       'region': 'MX-CMX'},\n",
       "      'contactPoint': {'email': 'adqisssteote@hotmail.com'},\n",
       "      'id': 'PME960701GG0',\n",
       "      'identifier': {'id': 'PME960701GG0',\n",
       "       'legalName': 'PRAXAIR MEXICO S DE R.L. DE  C.V.',\n",
       "       'scheme': 'MX-RFC',\n",
       "       'uri': 'https://portalsat.plataforma.sat.gob.mx/ConsultaRFC'},\n",
       "      'name': 'PRAXAIR MEXICO S DE R.L. DE  C.V.',\n",
       "      'roles': ['tenderer']},\n",
       "     {'address': {'countryName': 'MÉXICO',\n",
       "       'locality': 'San Nicolás de los Garza',\n",
       "       'postalCode': '66490',\n",
       "       'region': 'MX-NLE',\n",
       "       'streetAddress': 'CRISA NUM. 308 INDUSTRIAS DEL VIDRIO'},\n",
       "      'contactPoint': {'email': 'jcga7006@hotmail.com',\n",
       "       'telephone': '52 81 80079515'},\n",
       "      'id': 'JBS151204FK9',\n",
       "      'identifier': {'id': 'JBS151204FK9',\n",
       "       'legalName': 'JC BIOMEDICAL SOLUTIONS SA DE CV',\n",
       "       'scheme': 'MX-RFC',\n",
       "       'uri': 'https://portalsat.plataforma.sat.gob.mx/ConsultaRFC'},\n",
       "      'name': 'JC BIOMEDICAL SOLUTIONS SA DE CV',\n",
       "      'roles': ['tenderer']}],\n",
       "    'publisher': {'name': 'SECRETARÍA DE LA FUNCIÓN PÚBLICA',\n",
       "     'uid': '27511',\n",
       "     'uri': 'http://www.gob.mx/sfp'},\n",
       "    'tag': ['compiled'],\n",
       "    'tender': {'awardCriteria': 'priceOnly',\n",
       "     'awardPeriod': {'endDate': '2017-07-26T00:00:00Z',\n",
       "      'startDate': '2017-07-24T10:00:00Z'},\n",
       "     'documents': [{'datePublished': '2017-01-31T17:28:53Z',\n",
       "       'description': 'Convocatoria / Invitación',\n",
       "       'documentType': 'tenderNotice',\n",
       "       'id': '30290576',\n",
       "       'language': 'es',\n",
       "       'title': 'BASES DE CONVOCATORIA ANTEOJOS 2017.doc'}],\n",
       "     'enquiryPeriod': {'startDate': '2017-07-17T09:47:30Z'},\n",
       "     'hasEnquiries': False,\n",
       "     'id': '1419674',\n",
       "     'items': [{'classification': {'description': 'Espejuelos, lentes , anteojos (atavio civil militar o religioso)',\n",
       "        'id': '27100073'},\n",
       "       'description': 'ANTEOJOS PARA EMPLEADOS',\n",
       "       'id': '8237689',\n",
       "       'quantity': 1,\n",
       "       'unit': {'name': 'Pieza'}}],\n",
       "     'numberOfTenderers': 2,\n",
       "     'procurementMethod': 'selective',\n",
       "     'procurementMethodRationale': 'Art. 42 párrafo primero',\n",
       "     'procuringEntity': {'id': 'ISS6001015A3-051GYN008',\n",
       "      'name': 'ISSSTE-DEPARTAMENTO DE ADQUISICIONES EN COAHUILA #051GYN008'},\n",
       "     'status': 'unsuccessful',\n",
       "     'submissionMethod': ['electronicSubmission'],\n",
       "     'tenderPeriod': {'endDate': '2017-07-24T10:00:00Z',\n",
       "      'startDate': '2017-07-17T09:47:30Z'},\n",
       "     'tenderers': [{'id': 'PME960701GG0',\n",
       "       'name': 'PRAXAIR MEXICO S DE R.L. DE  C.V.'},\n",
       "      {'id': 'JBS151204FK9', 'name': 'JC BIOMEDICAL SOLUTIONS SA DE CV'}],\n",
       "     'title': 'EQUIPOS MEDICO Y DE LABORATORIO, ASI COMO INSTALACIONES Y DESINSTALACIONES MENOR',\n",
       "     'value': {}}},\n",
       "   'ocid': 'ocds-07smqs-1419674',\n",
       "   'releases': [{'buyer': {'id': 'ISSSTE-181',\n",
       "      'name': 'Instituto de Seguridad y Servicios Sociales de los Trabajadores del Estado'},\n",
       "     'cycle': 2017,\n",
       "     'date': '2017-07-17T09:47:30Z',\n",
       "     'id': 'SFP-1419674-2018-11-13',\n",
       "     'initiationType': 'tender',\n",
       "     'language': 'es',\n",
       "     'ocid': 'ocds-07smqs-1419674',\n",
       "     'parties': [{'id': 'ISSSTE-181',\n",
       "       'name': 'Instituto de Seguridad y Servicios Sociales de los Trabajadores del Estado',\n",
       "       'roles': ['buyer']},\n",
       "      {'address': {'countryName': 'MX',\n",
       "        'locality': 'Saltillo',\n",
       "        'postalCode': '25284',\n",
       "        'region': 'Coahuila',\n",
       "        'streetAddress': 'Gral. Andrés Saucedo No. 1368, Col. Deportiva'},\n",
       "       'contactPoint': {'email': 'alvaro.obregon@issste.gob.mx',\n",
       "        'name': 'Alvaro Jaime Obregon Flores',\n",
       "        'telephone': '01 844 4159262'},\n",
       "       'id': 'ISS6001015A3-051GYN008',\n",
       "       'identifier': {'id': 'ISS6001015A3-051GYN008',\n",
       "        'legalName': 'ISSSTE-DEPARTAMENTO DE ADQUISICIONES EN COAHUILA #051GYN008',\n",
       "        'scheme': 'MX-RFC',\n",
       "        'uri': 'https://portalsat.plataforma.sat.gob.mx/ConsultaRFC'},\n",
       "       'name': 'ISSSTE-DEPARTAMENTO DE ADQUISICIONES EN COAHUILA #051GYN008',\n",
       "       'roles': ['procuringEntity']},\n",
       "      {'address': {'countryName': 'MÉXICO',\n",
       "        'locality': 'AZCAPOTZALCO',\n",
       "        'region': 'MX-CMX'},\n",
       "       'contactPoint': {'email': 'adqisssteote@hotmail.com'},\n",
       "       'id': 'PME960701GG0',\n",
       "       'identifier': {'id': 'PME960701GG0',\n",
       "        'legalName': 'PRAXAIR MEXICO S DE R.L. DE  C.V.',\n",
       "        'scheme': 'MX-RFC',\n",
       "        'uri': 'https://portalsat.plataforma.sat.gob.mx/ConsultaRFC'},\n",
       "       'name': 'PRAXAIR MEXICO S DE R.L. DE  C.V.',\n",
       "       'roles': ['tenderer']},\n",
       "      {'address': {'countryName': 'MÉXICO',\n",
       "        'locality': 'San Nicolás de los Garza',\n",
       "        'postalCode': '66490',\n",
       "        'region': 'MX-NLE',\n",
       "        'streetAddress': 'CRISA NUM. 308 INDUSTRIAS DEL VIDRIO'},\n",
       "       'contactPoint': {'email': 'jcga7006@hotmail.com',\n",
       "        'telephone': '52 81 80079515'},\n",
       "       'id': 'JBS151204FK9',\n",
       "       'identifier': {'id': 'JBS151204FK9',\n",
       "        'legalName': 'JC BIOMEDICAL SOLUTIONS SA DE CV',\n",
       "        'scheme': 'MX-RFC',\n",
       "        'uri': 'https://portalsat.plataforma.sat.gob.mx/ConsultaRFC'},\n",
       "       'name': 'JC BIOMEDICAL SOLUTIONS SA DE CV',\n",
       "       'roles': ['tenderer']}],\n",
       "     'publisher': {'name': 'SECRETARÍA DE LA FUNCIÓN PÚBLICA',\n",
       "      'uid': '27511',\n",
       "      'uri': 'http://www.gob.mx/sfp'},\n",
       "     'tag': ['tender', 'award'],\n",
       "     'tender': {'awardCriteria': 'priceOnly',\n",
       "      'awardPeriod': {'endDate': '2017-07-26T00:00:00Z',\n",
       "       'startDate': '2017-07-24T10:00:00Z'},\n",
       "      'documents': [{'datePublished': '2017-01-31T17:28:53Z',\n",
       "        'description': 'Convocatoria / Invitación',\n",
       "        'documentType': 'tenderNotice',\n",
       "        'id': '30290576',\n",
       "        'language': 'es',\n",
       "        'title': 'BASES DE CONVOCATORIA ANTEOJOS 2017.doc'}],\n",
       "      'enquiryPeriod': {'startDate': '2017-07-17T09:47:30Z'},\n",
       "      'hasEnquiries': False,\n",
       "      'id': '1419674',\n",
       "      'items': [{'classification': {'description': 'Espejuelos, lentes , anteojos (atavio civil militar o religioso)',\n",
       "         'id': '27100073'},\n",
       "        'description': 'ANTEOJOS PARA EMPLEADOS',\n",
       "        'id': '8237689',\n",
       "        'quantity': 1,\n",
       "        'unit': {'name': 'Pieza'}}],\n",
       "      'numberOfTenderers': 2,\n",
       "      'procurementMethod': 'selective',\n",
       "      'procurementMethodRationale': 'Art. 42 párrafo primero',\n",
       "      'procuringEntity': {'id': 'ISS6001015A3-051GYN008',\n",
       "       'name': 'ISSSTE-DEPARTAMENTO DE ADQUISICIONES EN COAHUILA #051GYN008'},\n",
       "      'status': 'unsuccessful',\n",
       "      'submissionMethod': ['electronicSubmission'],\n",
       "      'tenderPeriod': {'endDate': '2017-07-24T10:00:00Z',\n",
       "       'startDate': '2017-07-17T09:47:30Z'},\n",
       "      'tenderers': [{'id': 'PME960701GG0',\n",
       "        'name': 'PRAXAIR MEXICO S DE R.L. DE  C.V.'},\n",
       "       {'id': 'JBS151204FK9', 'name': 'JC BIOMEDICAL SOLUTIONS SA DE CV'}],\n",
       "      'title': 'EQUIPOS MEDICO Y DE LABORATORIO, ASI COMO INSTALACIONES Y DESINSTALACIONES MENOR',\n",
       "      'value': {}}}]}],\n",
       " 'uri': 'https://api.datos.gob.mx/v2/contratacionesabiertas?records.ocid=ocds-07smqs-1419674',\n",
       " 'version': '1.1'}"
      ]
     },
     "execution_count": 7,
     "metadata": {},
     "output_type": "execute_result"
    }
   ],
   "source": [
    "import pprint\n",
    "collection.find_one({\"records.ocid\": \"ocds-07smqs-1419674\"})"
   ]
  },
  {
   "cell_type": "code",
   "execution_count": null,
   "metadata": {
    "collapsed": true
   },
   "outputs": [],
   "source": []
  }
 ],
 "metadata": {
  "kernelspec": {
   "display_name": "Python 3",
   "language": "python",
   "name": "python3"
  },
  "language_info": {
   "codemirror_mode": {
    "name": "ipython",
    "version": 3
   },
   "file_extension": ".py",
   "mimetype": "text/x-python",
   "name": "python",
   "nbconvert_exporter": "python",
   "pygments_lexer": "ipython3",
   "version": "3.6.1"
  }
 },
 "nbformat": 4,
 "nbformat_minor": 2
}
