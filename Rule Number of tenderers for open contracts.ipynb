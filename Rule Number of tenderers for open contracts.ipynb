{
 "cells": [
  {
   "cell_type": "markdown",
   "metadata": {},
   "source": [
    "# Rule 1 Key planning documents not provided"
   ]
  },
  {
   "cell_type": "code",
   "execution_count": 1,
   "metadata": {
    "collapsed": true
   },
   "outputs": [],
   "source": [
    "# import libraries\n",
    "import json\n",
    "import pandas as pd\n",
    "import matplotlib.pyplot as plt\n",
    "import folium\n",
    "import gc\n",
    "from pandas import DataFrame"
   ]
  },
  {
   "cell_type": "code",
   "execution_count": 44,
   "metadata": {},
   "outputs": [
    {
     "data": {
      "text/plain": [
       "198"
      ]
     },
     "execution_count": 44,
     "metadata": {},
     "output_type": "execute_result"
    }
   ],
   "source": [
    "#Read original CSV files to extract required data fields (procurement method, amount, buyer, region, cycle)\n",
    "l = [i for i in range(1,14)]\n",
    "Tenderers=[]\n",
    "for n in l:\n",
    "    s=\"c\"+str(n)+\".csv\"\n",
    "    data=pd.read_csv(s)\n",
    "    tenderers=tenderers.append(data[[\"ocid\",\"compiledRelease.tender.procurementMethod\",'compiledRelease.tender.tenderers']])    \n",
    "    #Remove , and rowsIDs later\n",
    "    #tenderers.to_csv(\"openTenderers.csv\", header=False, mode = 'a',index=False)  \n",
    "# Destroy unused objects\n",
    "del data,s,l\n",
    "# Run garbage collection process \n",
    "gc.collect()"
   ]
  },
  {
   "cell_type": "code",
   "execution_count": 45,
   "metadata": {},
   "outputs": [
    {
     "data": {
      "text/plain": [
       "901590"
      ]
     },
     "execution_count": 45,
     "metadata": {},
     "output_type": "execute_result"
    }
   ],
   "source": [
    "tenderers.size"
   ]
  },
  {
   "cell_type": "code",
   "execution_count": 4,
   "metadata": {
    "collapsed": true
   },
   "outputs": [],
   "source": [
    "import math"
   ]
  },
  {
   "cell_type": "code",
   "execution_count": null,
   "metadata": {
    "collapsed": true
   },
   "outputs": [],
   "source": []
  },
  {
   "cell_type": "code",
   "execution_count": 46,
   "metadata": {},
   "outputs": [],
   "source": [
    "m=[]\n",
    "for n in tenderers.iterrows():\n",
    "    if (n[1][\"compiledRelease.tender.procurementMethod\"]==\"open\"):\n",
    "        try:\n",
    "            tipofloat=float(n[1][\"compiledRelease.tender.tenderers\"])\n",
    "        except:\n",
    "            m.append(n[1][\"compiledRelease.tender.tenderers\"])\n",
    "        \n",
    "        \n",
    "#cifra=json.loads(n[1][\"releases\"])\n",
    "    #print(n[1][\"compiledRelease.tender.tenderers\"])"
   ]
  },
  {
   "cell_type": "code",
   "execution_count": 48,
   "metadata": {},
   "outputs": [
    {
     "name": "stdout",
     "output_type": "stream",
     "text": [
      "16313\n"
     ]
    }
   ],
   "source": [
    "for m in m:\n",
    "    "
   ]
  },
  {
   "cell_type": "code",
   "execution_count": null,
   "metadata": {
    "collapsed": true
   },
   "outputs": [],
   "source": []
  },
  {
   "cell_type": "code",
   "execution_count": null,
   "metadata": {
    "collapsed": true
   },
   "outputs": [],
   "source": []
  }
 ],
 "metadata": {
  "kernelspec": {
   "display_name": "Python 3",
   "language": "python",
   "name": "python3"
  },
  "language_info": {
   "codemirror_mode": {
    "name": "ipython",
    "version": 3
   },
   "file_extension": ".py",
   "mimetype": "text/x-python",
   "name": "python",
   "nbconvert_exporter": "python",
   "pygments_lexer": "ipython3",
   "version": "3.6.1"
  }
 },
 "nbformat": 4,
 "nbformat_minor": 2
}
