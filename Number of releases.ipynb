{
 "cells": [
  {
   "cell_type": "markdown",
   "metadata": {},
   "source": [
    "# Number of releases"
   ]
  },
  {
   "cell_type": "code",
   "execution_count": 1,
   "metadata": {
    "collapsed": true
   },
   "outputs": [],
   "source": [
    "# import libraries\n",
    "import json\n",
    "import pandas as pd\n",
    "import matplotlib.pyplot as plt\n",
    "import folium\n",
    "import gc\n",
    "from pandas import DataFrame"
   ]
  },
  {
   "cell_type": "code",
   "execution_count": 5,
   "metadata": {},
   "outputs": [
    {
     "name": "stderr",
     "output_type": "stream",
     "text": [
      "C:\\Users\\Dagoberto\\Anaconda3\\lib\\site-packages\\ipykernel_launcher.py:17: SettingWithCopyWarning: \n",
      "A value is trying to be set on a copy of a slice from a DataFrame.\n",
      "Try using .loc[row_indexer,col_indexer] = value instead\n",
      "\n",
      "See the caveats in the documentation: http://pandas.pydata.org/pandas-docs/stable/indexing.html#indexing-view-versus-copy\n"
     ]
    },
    {
     "data": {
      "text/plain": [
       "26"
      ]
     },
     "execution_count": 5,
     "metadata": {},
     "output_type": "execute_result"
    }
   ],
   "source": [
    "#Read original CSV files to extract required data fields (procurement method, amount, buyer, region, cycle)\n",
    "l = [i for i in range(1,14)]\n",
    "for n in l:\n",
    "    s=\"c\"+str(n)+\".csv\"\n",
    "    data=pd.read_csv(s)\n",
    "    contratos=data[['releases']]\n",
    "    \n",
    "    a=[]#list of nreleases\n",
    "    \n",
    "    #Read json to extract data fields in contratos\n",
    "    for n in contratos.iterrows():\n",
    "        cifra=json.loads(n[1][\"releases\"])\n",
    "        nreleases=len(cifra)            \n",
    "        a.append(nreleases)\n",
    "        \n",
    "    tenderers=data[[\"ocid\"]]\n",
    "    tenderers['nreleases'] = a\n",
    "    \n",
    "    #Appending result to a new CSV\n",
    "    #Remove , and rowsIDs later\n",
    "    tenderers.to_csv(\"nreleases1\", header=False, mode = 'a')\n",
    "    \n",
    "# Destroy unused objects\n",
    "del a,data,contratos,s,cifra,nreleases,tenderers\n",
    "# Run garbage collection process \n",
    "gc.collect()"
   ]
  },
  {
   "cell_type": "code",
   "execution_count": 6,
   "metadata": {
    "collapsed": true
   },
   "outputs": [],
   "source": [
    "#Read new file\n",
    "data=pd.read_csv(\"nreleases1\", encoding ='latin1', header=None,skiprows=[0])\n",
    "data=data.rename(columns={0:'ocid', 1:'nReleases'})"
   ]
  },
  {
   "cell_type": "code",
   "execution_count": 11,
   "metadata": {},
   "outputs": [
    {
     "data": {
      "text/plain": [
       "ocid         50544\n",
       "nReleases    50544\n",
       "2            50544\n",
       "dtype: int64"
      ]
     },
     "execution_count": 11,
     "metadata": {},
     "output_type": "execute_result"
    }
   ],
   "source": [
    "data.loc[data[2] >= 2].count()"
   ]
  },
  {
   "cell_type": "code",
   "execution_count": 12,
   "metadata": {},
   "outputs": [
    {
     "data": {
      "text/plain": [
       "ocid         3173\n",
       "nReleases    3173\n",
       "2            3173\n",
       "dtype: int64"
      ]
     },
     "execution_count": 12,
     "metadata": {},
     "output_type": "execute_result"
    }
   ],
   "source": [
    "data.loc[data[2] >= 3].count()"
   ]
  },
  {
   "cell_type": "code",
   "execution_count": null,
   "metadata": {
    "collapsed": true
   },
   "outputs": [],
   "source": []
  },
  {
   "cell_type": "code",
   "execution_count": null,
   "metadata": {
    "collapsed": true
   },
   "outputs": [],
   "source": []
  },
  {
   "cell_type": "code",
   "execution_count": null,
   "metadata": {
    "collapsed": true
   },
   "outputs": [],
   "source": []
  }
 ],
 "metadata": {
  "kernelspec": {
   "display_name": "Python 3",
   "language": "python",
   "name": "python3"
  },
  "language_info": {
   "codemirror_mode": {
    "name": "ipython",
    "version": 3
   },
   "file_extension": ".py",
   "mimetype": "text/x-python",
   "name": "python",
   "nbconvert_exporter": "python",
   "pygments_lexer": "ipython3",
   "version": "3.6.1"
  }
 },
 "nbformat": 4,
 "nbformat_minor": 2
}
